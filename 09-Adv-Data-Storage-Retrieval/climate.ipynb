{
 "cells": [
  {
   "cell_type": "code",
   "execution_count": null,
   "metadata": {},
   "outputs": [],
   "source": []
  },
  {
   "cell_type": "code",
   "execution_count": 1,
   "metadata": {},
   "outputs": [],
   "source": [
    "#%matplotlib notebook\n",
    "from matplotlib import style\n",
    "style.use('fivethirtyeight')\n",
    "import matplotlib.pyplot as plt"
   ]
  },
  {
   "cell_type": "code",
   "execution_count": 2,
   "metadata": {},
   "outputs": [],
   "source": [
    "import numpy as np\n",
    "import pandas as pd"
   ]
  },
  {
   "cell_type": "code",
   "execution_count": 3,
   "metadata": {},
   "outputs": [],
   "source": [
    "import datetime as dt"
   ]
  },
  {
   "cell_type": "markdown",
   "metadata": {},
   "source": [
    "# Reflect Tables into SQLAlchemy ORM"
   ]
  },
  {
   "cell_type": "code",
   "execution_count": 4,
   "metadata": {},
   "outputs": [],
   "source": [
    "# Python SQL toolkit and Object Relational Mapper\n",
    "import sqlalchemy\n",
    "from sqlalchemy.ext.automap import automap_base\n",
    "from sqlalchemy.orm import Session\n",
    "from sqlalchemy import create_engine, func"
   ]
  },
  {
   "cell_type": "code",
   "execution_count": 5,
   "metadata": {},
   "outputs": [],
   "source": [
    "engine = create_engine(\"sqlite:///Resources/hawaii.sqlite\")"
   ]
  },
  {
   "cell_type": "code",
   "execution_count": 6,
   "metadata": {},
   "outputs": [],
   "source": [
    "# reflect an existing database into a new model\n",
    "Base = automap_base()\n",
    "# reflect the tables\n",
    "Base.prepare(engine, reflect=True)"
   ]
  },
  {
   "cell_type": "code",
   "execution_count": 7,
   "metadata": {},
   "outputs": [
    {
     "data": {
      "text/plain": [
       "['measurement', 'station']"
      ]
     },
     "execution_count": 7,
     "metadata": {},
     "output_type": "execute_result"
    }
   ],
   "source": [
    "# We can view all of the classes that automap found\n",
    "Base.classes.keys()"
   ]
  },
  {
   "cell_type": "code",
   "execution_count": 8,
   "metadata": {},
   "outputs": [],
   "source": [
    "# Save references to each table\n",
    "Measurement = Base.classes.measurement\n",
    "Station = Base.classes.station"
   ]
  },
  {
   "cell_type": "code",
   "execution_count": 9,
   "metadata": {},
   "outputs": [],
   "source": [
    "# Create our session (link) from Python to the DB\n",
    "session = Session(engine)"
   ]
  },
  {
   "cell_type": "code",
   "execution_count": null,
   "metadata": {},
   "outputs": [],
   "source": []
  },
  {
   "cell_type": "code",
   "execution_count": 10,
   "metadata": {},
   "outputs": [
    {
     "data": {
      "text/plain": [
       "{'id': Column('id', INTEGER(), table=<measurement>, primary_key=True, nullable=False),\n",
       " 'station': Column('station', TEXT(), table=<measurement>),\n",
       " 'date': Column('date', TEXT(), table=<measurement>),\n",
       " 'prcp': Column('prcp', FLOAT(), table=<measurement>),\n",
       " 'tobs': Column('tobs', FLOAT(), table=<measurement>)}"
      ]
     },
     "execution_count": 10,
     "metadata": {},
     "output_type": "execute_result"
    }
   ],
   "source": [
    "#  The schema and table can be viewed at https://sqliteonline.com/\n",
    "#  Or by installing DB Browser for SQLite\n",
    "dict(Measurement.__table__.columns)"
   ]
  },
  {
   "cell_type": "code",
   "execution_count": 11,
   "metadata": {},
   "outputs": [
    {
     "data": {
      "text/plain": [
       "{'id': Column('id', INTEGER(), table=<station>, primary_key=True, nullable=False),\n",
       " 'station': Column('station', TEXT(), table=<station>),\n",
       " 'name': Column('name', TEXT(), table=<station>),\n",
       " 'latitude': Column('latitude', FLOAT(), table=<station>),\n",
       " 'longitude': Column('longitude', FLOAT(), table=<station>),\n",
       " 'elevation': Column('elevation', FLOAT(), table=<station>)}"
      ]
     },
     "execution_count": 11,
     "metadata": {},
     "output_type": "execute_result"
    }
   ],
   "source": [
    "dict(Station.__table__.columns)"
   ]
  },
  {
   "cell_type": "code",
   "execution_count": 12,
   "metadata": {},
   "outputs": [
    {
     "data": {
      "text/plain": [
       "{'_sa_instance_state': <sqlalchemy.orm.state.InstanceState at 0x17347541828>,\n",
       " 'id': 1,\n",
       " 'elevation': 3.0,\n",
       " 'latitude': 21.2716,\n",
       " 'station': 'USC00519397',\n",
       " 'longitude': -157.8168,\n",
       " 'name': 'WAIKIKI 717.2, HI US'}"
      ]
     },
     "execution_count": 12,
     "metadata": {},
     "output_type": "execute_result"
    }
   ],
   "source": [
    "# Display the row's columns and data in dictionary format\n",
    "first_row = session.query(Station).first()\n",
    "first_row.__dict__"
   ]
  },
  {
   "cell_type": "code",
   "execution_count": 13,
   "metadata": {},
   "outputs": [
    {
     "data": {
      "text/plain": [
       "{'_sa_instance_state': <sqlalchemy.orm.state.InstanceState at 0x17347551358>,\n",
       " 'tobs': 65.0,\n",
       " 'date': '2010-01-01',\n",
       " 'station': 'USC00519397',\n",
       " 'prcp': 0.08,\n",
       " 'id': 1}"
      ]
     },
     "execution_count": 13,
     "metadata": {},
     "output_type": "execute_result"
    }
   ],
   "source": [
    "# Display the row's columns and data in dictionary format\n",
    "first_row = session.query(Measurement).first()\n",
    "first_row.__dict__"
   ]
  },
  {
   "cell_type": "code",
   "execution_count": null,
   "metadata": {},
   "outputs": [],
   "source": []
  },
  {
   "cell_type": "markdown",
   "metadata": {},
   "source": [
    "# Exploratory Climate Analysis"
   ]
  },
  {
   "cell_type": "code",
   "execution_count": 14,
   "metadata": {},
   "outputs": [],
   "source": [
    "from datetime import timedelta as td\n",
    "from sqlalchemy import and_\n",
    "import matplotlib.dates as mdates"
   ]
  },
  {
   "cell_type": "code",
   "execution_count": 15,
   "metadata": {},
   "outputs": [
    {
     "name": "stdout",
     "output_type": "stream",
     "text": [
      "<class 'str'> 2016-08-23\n"
     ]
    },
    {
     "data": {
      "image/png": "[encoded data removed]",
      "text/plain": [
       "<Figure size 720x504 with 1 Axes>"
      ]
     },
     "metadata": {},
     "output_type": "display_data"
    }
   ],
   "source": [
    "from matplotlib import style\n",
    "style.use('fivethirtyeight')\n",
    "\n",
    "# Design a query to retrieve the last 12 months of precipitation data and plot the results\n",
    "last_entry = session.query(Measurement).order_by(Measurement.date.desc())\n",
    "\n",
    "# Calculate the date 1 year ago from today\n",
    "last_entry_year = last_entry.first().__dict__['date']\n",
    "prev_year = (dt.datetime.strptime(last_entry_year, \"%Y-%m-%d\") -td(365)).strftime(\"%Y-%m-%d\")\n",
    "print(type(prev_year), prev_year)\n",
    "\n",
    "# Perform a query to retrieve the data and precipitation scores\n",
    "prec_data = session.query(Measurement.date, Measurement.prcp).filter(\n",
    "    and_(Measurement.date >= prev_year, Measurement.prcp != None))\n",
    "x_val, y_val = zip(*prec_data)\n",
    "\n",
    "# Save the query results as a Pandas DataFrame and set the index to the date column\n",
    "df = pd.DataFrame({\"Date\" : x_val,\n",
    "                   \"Precipitation\" : y_val})\n",
    "df['Date'] = pd.to_datetime(df['Date'])\n",
    "#df.index = pd.to_datetime(df.index)\n",
    "df.set_index('Date', inplace=True)\n",
    "\n",
    "# Sort the dataframe by date\n",
    "df.sort_index(inplace=True)\n",
    "\n",
    "# Use Pandas Plotting with Matplotlib to plot the data\n",
    "df.plot(alpha=0.75, figsize=(10,7))\n",
    "\n",
    "# Rotate the xticks for the dates\n",
    "plt.savefig('figs/precp_results.png', bbox_inches='tight')\n",
    "plt.show()\n"
   ]
  },
  {
   "cell_type": "code",
   "execution_count": 16,
   "metadata": {},
   "outputs": [],
   "source": [
    "# Design a query to retrieve the last 12 months of precipitation data and plot the results\n",
    "\n",
    "# Calculate the date 1 year ago from today\n",
    "\n",
    "# Perform a query to retrieve the data and precipitation scores\n",
    "\n",
    "# Save the query results as a Pandas DataFrame and set the index to the date column\n",
    "\n",
    "# Sort the dataframe by date\n",
    "\n",
    "# Use Pandas Plotting with Matplotlib to plot the data\n",
    "\n",
    "# Rotate the xticks for the dates\n"
   ]
  },
  {
   "cell_type": "code",
   "execution_count": 17,
   "metadata": {},
   "outputs": [
    {
     "data": {
      "text/html": [
       "<div>\n",
       "<style scoped>\n",
       "    .dataframe tbody tr th:only-of-type {\n",
       "        vertical-align: middle;\n",
       "    }\n",
       "\n",
       "    .dataframe tbody tr th {\n",
       "        vertical-align: top;\n",
       "    }\n",
       "\n",
       "    .dataframe thead th {\n",
       "        text-align: right;\n",
       "    }\n",
       "</style>\n",
       "<table border=\"1\" class=\"dataframe\">\n",
       "  <thead>\n",
       "    <tr style=\"text-align: right;\">\n",
       "      <th></th>\n",
       "      <th>Precipitation</th>\n",
       "    </tr>\n",
       "  </thead>\n",
       "  <tbody>\n",
       "    <tr>\n",
       "      <th>count</th>\n",
       "      <td>2021.000000</td>\n",
       "    </tr>\n",
       "    <tr>\n",
       "      <th>mean</th>\n",
       "      <td>0.177279</td>\n",
       "    </tr>\n",
       "    <tr>\n",
       "      <th>std</th>\n",
       "      <td>0.461190</td>\n",
       "    </tr>\n",
       "    <tr>\n",
       "      <th>min</th>\n",
       "      <td>0.000000</td>\n",
       "    </tr>\n",
       "    <tr>\n",
       "      <th>25%</th>\n",
       "      <td>0.000000</td>\n",
       "    </tr>\n",
       "    <tr>\n",
       "      <th>50%</th>\n",
       "      <td>0.020000</td>\n",
       "    </tr>\n",
       "    <tr>\n",
       "      <th>75%</th>\n",
       "      <td>0.130000</td>\n",
       "    </tr>\n",
       "    <tr>\n",
       "      <th>max</th>\n",
       "      <td>6.700000</td>\n",
       "    </tr>\n",
       "  </tbody>\n",
       "</table>\n",
       "</div>"
      ],
      "text/plain": [
       "       Precipitation\n",
       "count    2021.000000\n",
       "mean        0.177279\n",
       "std         0.461190\n",
       "min         0.000000\n",
       "25%         0.000000\n",
       "50%         0.020000\n",
       "75%         0.130000\n",
       "max         6.700000"
      ]
     },
     "execution_count": 17,
     "metadata": {},
     "output_type": "execute_result"
    }
   ],
   "source": [
    "df.describe()"
   ]
  },
  {
   "cell_type": "code",
   "execution_count": 18,
   "metadata": {},
   "outputs": [],
   "source": [
    "# Use Pandas to calcualte the summary statistics for the precipitation data\n"
   ]
  },
  {
   "cell_type": "code",
   "execution_count": 19,
   "metadata": {},
   "outputs": [],
   "source": [
    "# How many stations are available in this dataset?\n"
   ]
  },
  {
   "cell_type": "code",
   "execution_count": 20,
   "metadata": {},
   "outputs": [
    {
     "name": "stdout",
     "output_type": "stream",
     "text": [
      "Total stations = 9\n",
      "Station names:\n",
      "\tWAIKIKI 717.2, HI US\n",
      "\tKANEOHE 838.1, HI US\n",
      "\tKUALOA RANCH HEADQUARTERS 886.9, HI US\n",
      "\tPEARL CITY, HI US\n",
      "\tUPPER WAHIAWA 874.3, HI US\n",
      "\tWAIMANALO EXPERIMENTAL FARM, HI US\n",
      "\tWAIHEE 837.5, HI US\n",
      "\tHONOLULU OBSERVATORY 702.2, HI US\n",
      "\tMANOA LYON ARBO 785.2, HI US\n"
     ]
    }
   ],
   "source": [
    "total_stations = session.query(Station).count()\n",
    "st = session.query(Station)\n",
    "print(f\"Total stations = {total_stations}\")\n",
    "print(\"Station names:\")\n",
    "for s in st:\n",
    "    print(f\"\\t{s.name}\")"
   ]
  },
  {
   "cell_type": "code",
   "execution_count": 21,
   "metadata": {},
   "outputs": [],
   "source": [
    "# What are the most active stations?\n",
    "# List the stations and the counts in descending order.\n"
   ]
  },
  {
   "cell_type": "code",
   "execution_count": 22,
   "metadata": {},
   "outputs": [
    {
     "name": "stdout",
     "output_type": "stream",
     "text": [
      "The Query is:\n",
      "SELECT measurement.station AS measurement_station, count(measurement.station) AS \"Count\" \n",
      "FROM measurement GROUP BY measurement.station ORDER BY \"Count\" DESC \n",
      "\n",
      "Station        Observation Count\n",
      "========================================\n",
      "USC00519281    2772\n",
      "USC00519397    2724\n",
      "USC00513117    2709\n",
      "USC00519523    2669\n",
      "USC00516128    2612\n",
      "USC00514830    2202\n",
      "USC00511918    1979\n",
      "USC00517948    1372\n",
      "USC00518838    511\n",
      "========================================\n"
     ]
    }
   ],
   "source": [
    "from sqlalchemy import func\n",
    "\n",
    "# What are the most active stations?\n",
    "# List the stations and the counts in descending order.\n",
    "st_join = session.query(\n",
    "    Measurement.station, func.count(Measurement.station).label('Count')\n",
    ").group_by(\n",
    "    Measurement.station\n",
    ").order_by(\n",
    "    #  Forward reference to label attached above\n",
    "    sqlalchemy.desc('Count')\n",
    "    #  or alternatively\n",
    "    #  func.count(Measurement.station).desc()\n",
    ")\n",
    "\n",
    "print('The Query is:')\n",
    "print(st_join, '\\n')\n",
    "print(f\"{'Station':15}{'Observation Count'}\")\n",
    "print(\"\".ljust(40,'='))\n",
    "for st, meas_cnt in st_join:\n",
    "    print(f\"{st:15}{meas_cnt}\")\n",
    "print(\"\".ljust(40,'='))"
   ]
  },
  {
   "cell_type": "code",
   "execution_count": 23,
   "metadata": {},
   "outputs": [],
   "source": [
    "# Using the station id from the previous query, calculate the lowest temperature recorded, \n",
    "# highest temperature recorded, and average temperature most active station?\n"
   ]
  },
  {
   "cell_type": "code",
   "execution_count": 24,
   "metadata": {},
   "outputs": [
    {
     "name": "stdout",
     "output_type": "stream",
     "text": [
      "Station USC00519281 recorded\n",
      "\t Lowest temp of 54.00°, avg temp of 71.66° and max temp of 85.00°\n"
     ]
    }
   ],
   "source": [
    "# Using the station id from the previous query, calculate the lowest temperature recorded, \n",
    "# highest temperature recorded, and average temperature most active station?\n",
    "act_st_id = st_join.first()\n",
    "temp_q = session.query(\n",
    "    func.min(Measurement.tobs),\n",
    "    func.avg(Measurement.tobs),\n",
    "    func.max(Measurement.tobs)).filter(Measurement.station == act_st_id.station)\n",
    "print(f\"Station {act_st_id.station} recorded\")\n",
    "min_t, avg_t, max_t = temp_q.first()\n",
    "print(f\"\\t Lowest temp of {min_t:3.2f}°, avg temp of {avg_t:2.2f}° and max temp of {max_t:3.2f}°\")"
   ]
  },
  {
   "cell_type": "code",
   "execution_count": 25,
   "metadata": {},
   "outputs": [],
   "source": [
    "# Choose the station with the highest number of temperature observations.\n",
    "# Query the last 12 months of temperature observation data for this station and plot the results as a histogram\n"
   ]
  },
  {
   "cell_type": "code",
   "execution_count": 26,
   "metadata": {},
   "outputs": [
    {
     "name": "stdout",
     "output_type": "stream",
     "text": [
      "SELECT measurement.tobs AS measurement_tobs \n",
      "FROM measurement \n",
      "WHERE measurement.date >= ? AND measurement.station = ?\n"
     ]
    },
    {
     "data": {
      "image/png": "[encoded data removed]",
      "text/plain": [
       "<Figure size 432x288 with 1 Axes>"
      ]
     },
     "metadata": {},
     "output_type": "display_data"
    }
   ],
   "source": [
    "from matplotlib import style\n",
    "style.use('fivethirtyeight')\n",
    "last_entry_act_st_q = session.query(Measurement).filter(\n",
    "    Measurement.station == act_st_id.station).order_by(Measurement.date.desc())\n",
    "last_entry = last_entry_act_st_q.first().date\n",
    "prev_year = (dt.datetime.strptime(last_entry, \"%Y-%m-%d\") - td(365)).strftime(\"%Y-%m-%d\")\n",
    "temperature_data = session.query(Measurement.tobs).filter(and_(\n",
    "    Measurement.date >= prev_year,\n",
    "    Measurement.station == act_st_id.station))\n",
    "\n",
    "print(temperature_data)\n",
    "t_df = pd.DataFrame({'Temperature': [val.tobs for val in temperature_data]})\n",
    "n_bins = 12\n",
    "\n",
    "# We can set the number of bins with the `bins` kwarg\n",
    "t_df.plot.hist(bins=n_bins)\n",
    "plt.savefig('figs/temperature_results.png', bbox_inches='tight')\n",
    "plt.show()\n"
   ]
  },
  {
   "cell_type": "code",
   "execution_count": 27,
   "metadata": {},
   "outputs": [
    {
     "name": "stdout",
     "output_type": "stream",
     "text": [
      "[(62.0, 69.57142857142857, 74.0)]\n"
     ]
    }
   ],
   "source": [
    "# Write a function called `calc_temps` that will accept start date and end date in the format '%Y-%m-%d' \n",
    "# and return the minimum, average, and maximum temperatures for that range of dates\n",
    "def calc_temps(start_date, end_date):\n",
    "    \"\"\"TMIN, TAVG, and TMAX for a list of dates.\n",
    "    \n",
    "    Args:\n",
    "        start_date (string): A date string in the format %Y-%m-%d\n",
    "        end_date (string): A date string in the format %Y-%m-%d\n",
    "        \n",
    "    Returns:\n",
    "        TMIN, TAVE, and TMAX\n",
    "    \"\"\"\n",
    "    \n",
    "    return session.query(func.min(Measurement.tobs), func.avg(Measurement.tobs), func.max(Measurement.tobs)).\\\n",
    "        filter(Measurement.date >= start_date).filter(Measurement.date <= end_date).all()\n",
    "print(calc_temps('2012-02-28', '2012-03-05'))"
   ]
  },
  {
   "cell_type": "code",
   "execution_count": 28,
   "metadata": {},
   "outputs": [],
   "source": [
    "# Use your previous function `calc_temps` to calculate the tmin, tavg, and tmax \n",
    "# for your trip using the previous year's data for those same dates.\n"
   ]
  },
  {
   "cell_type": "code",
   "execution_count": 29,
   "metadata": {},
   "outputs": [
    {
     "name": "stdout",
     "output_type": "stream",
     "text": [
      "During trip from 2017-01-01 to 2017-01-07\n",
      "Min temperature was 62.00° Avg temperature was 68.36585° Max temperature was 74.00°\n"
     ]
    }
   ],
   "source": [
    "prev_y_st = (dt.datetime.strptime('2018-01-01', \"%Y-%m-%d\") - td(365)).strftime(\"%Y-%m-%d\")\n",
    "prev_y_end = (dt.datetime.strptime('2018-01-07', \"%Y-%m-%d\") - td(365)).strftime(\"%Y-%m-%d\")\n",
    "tmin, tavg, tmax = calc_temps(prev_y_st, prev_y_end)[0]\n",
    "print(f\"During trip from {prev_y_st} to {prev_y_end}\")\n",
    "print(f\"Min temperature was {tmin:3.2f}° Avg temperature was {tavg:3.5f}° Max temperature was {tmax:3.2f}°\")"
   ]
  },
  {
   "cell_type": "code",
   "execution_count": 30,
   "metadata": {},
   "outputs": [],
   "source": [
    "# Plot the results from your previous query as a bar chart. \n",
    "# Use \"Trip Avg Temp\" as your Title\n",
    "# Use the average temperature for the y value\n",
    "# Use the peak-to-peak (tmax-tmin) value as the y error bar (yerr)\n"
   ]
  },
  {
   "cell_type": "code",
   "execution_count": 31,
   "metadata": {},
   "outputs": [
    {
     "data": {
      "image/png": "[encoded data removed]",
      "text/plain": [
       "<Figure size 1080x504 with 1 Axes>"
      ]
     },
     "metadata": {},
     "output_type": "display_data"
    }
   ],
   "source": [
    "from matplotlib import style\n",
    "style.use('fivethirtyeight')\n",
    "\n",
    "fig = plt.figure(figsize=(15, 7))\n",
    "ax = fig.add_subplot(111)\n",
    "ax.bar([1], tavg, width=0.4, yerr = tmax-tmin)\n",
    "ax.set_xlim(0.6, 1.4)\n",
    "ax.set_yticks([0, 20,40, 60, 80, 100])\n",
    "ax.set_aspect(0.01)\n",
    "ax.xaxis.set_major_locator(plt.NullLocator())\n",
    "ax.set_ylabel('Temp (F)')\n",
    "ax.set_title('Trip Avg Temp')\n",
    "ax.plot()\n",
    "plt.savefig('figs/avg_temp.png', bbox_inches='tight')\n",
    "plt.show()\n"
   ]
  },
  {
   "cell_type": "code",
   "execution_count": 32,
   "metadata": {},
   "outputs": [],
   "source": [
    "# Calculate the rainfall per weather station for your trip dates using the previous year's matching dates.\n",
    "# Sort this in descending order by precipitation amount and list the station, name, latitude, longitude, and elevation\n",
    "\n"
   ]
  },
  {
   "cell_type": "code",
   "execution_count": 33,
   "metadata": {},
   "outputs": [
    {
     "name": "stdout",
     "output_type": "stream",
     "text": [
      "The Query is:\n",
      "SELECT sum(measurement.prcp) AS \"PSum\", station.station AS station_station, station.name AS station_name, station.latitude AS station_latitude, station.longitude AS station_longitude, station.elevation AS station_elevation \n",
      "FROM measurement JOIN station ON station.station = measurement.station \n",
      "WHERE measurement.date >= ? AND measurement.date <= ? AND measurement.prcp IS NOT NULL GROUP BY station.station ORDER BY \"PSum\" DESC \n",
      "\n",
      "Station      Station Name                              Precp  Latitude  Longitude Elevation \n",
      "===========================================================================================\n",
      "USC00516128  MANOA LYON ARBO 785.2, HI US              0.3100   21.3331 -157.8025     152.4\n",
      "USC00519281  WAIHEE 837.5, HI US                       0.2500   21.4517 -157.8489      32.9\n",
      "USC00518838  UPPER WAHIAWA 874.3, HI US                0.1000   21.4992 -158.0111     306.6\n",
      "USC00513117  KANEOHE 838.1, HI US                      0.0600   21.4234 -157.8015      14.6\n",
      "USC00511918  HONOLULU OBSERVATORY 702.2, HI US         0.0000   21.3152 -157.9992       0.9\n",
      "USC00514830  KUALOA RANCH HEADQUARTERS 886.9, HI US    0.0000   21.5213 -157.8374       7.0\n",
      "USC00517948  PEARL CITY, HI US                         0.0000   21.3934 -157.9751      11.9\n",
      "USC00519397  WAIKIKI 717.2, HI US                      0.0000   21.2716 -157.8168       3.0\n",
      "USC00519523  WAIMANALO EXPERIMENTAL FARM, HI US        0.0000   21.3356 -157.7114      19.5\n",
      "===========================================================================================\n"
     ]
    }
   ],
   "source": [
    "#prev_y_st = (dt.datetime.strptime('2013-01-01', \"%Y-%m-%d\") - td(365)).strftime(\"%Y-%m-%d\")\n",
    "#prev_y_end = (dt.datetime.strptime('2013-01-07', \"%Y-%m-%d\") - td(365)).strftime(\"%Y-%m-%d\")\n",
    "vacation_q = session.query(func.sum(Measurement.prcp).label('PSum'),\n",
    "              Station.station,\n",
    "              Station.name,\n",
    "              Station.latitude,\n",
    "              Station.longitude,\n",
    "              Station.elevation).\\\n",
    "              join(Station, Station.station == Measurement.station).\\\n",
    "              filter(Measurement.date >= '2012-01-01').\\\n",
    "              filter(Measurement.date <= '2012-01-07').\\\n",
    "              filter(Measurement.prcp != None).\\\n",
    "              group_by(Station.station).\\\n",
    "              order_by(sqlalchemy.desc('PSum'))\n",
    "\n",
    "print('The Query is:')\n",
    "print(vacation_q, '\\n')\n",
    "print(f\"{'Station':13}{'Station Name':42}{'Precp':7}{'Latitude':10}{'Longitude':10}{'Elevation':10}\")\n",
    "print(\"\".ljust(91,'='))\n",
    "for prcp, st, st_name, st_lat, st_lng, st_elev in vacation_q:\n",
    "    print(f\"{st:13}{st_name:42}{prcp:>5.4f}{st_lat:>10.4f}{st_lng:>10.4f}{st_elev:>10.1f}\")\n",
    "print(\"\".ljust(91,'='))"
   ]
  },
  {
   "cell_type": "markdown",
   "metadata": {},
   "source": [
    "## Optional Challenge Assignment"
   ]
  },
  {
   "cell_type": "code",
   "execution_count": 34,
   "metadata": {},
   "outputs": [
    {
     "data": {
      "text/plain": [
       "[(62.0, 69.15384615384616, 77.0)]"
      ]
     },
     "execution_count": 34,
     "metadata": {},
     "output_type": "execute_result"
    }
   ],
   "source": [
    "# Create a query that will calculate the daily normals \n",
    "# (i.e. the averages for tmin, tmax, and tavg for all historic data matching a specific month and day)\n",
    "\n",
    "def daily_normals(date):\n",
    "    \"\"\"Daily Normals.\n",
    "    \n",
    "    Args:\n",
    "        date (str): A date string in the format '%m-%d'\n",
    "        \n",
    "    Returns:\n",
    "        A list of tuples containing the daily normals, tmin, tavg, and tmax\n",
    "    \n",
    "    \"\"\"\n",
    "    \n",
    "    sel = [func.min(Measurement.tobs), func.avg(Measurement.tobs), func.max(Measurement.tobs)]\n",
    "    return session.query(*sel).filter(func.strftime(\"%m-%d\", Measurement.date) == date).all()\n",
    "    \n",
    "daily_normals(\"01-01\")"
   ]
  },
  {
   "cell_type": "code",
   "execution_count": 35,
   "metadata": {},
   "outputs": [],
   "source": [
    "# calculate the daily normals for your trip\n",
    "# push each tuple of calculations into a list called `normals`\n",
    "\n",
    "# Set the start and end date of the trip\n",
    "\n",
    "# Use the start and end date to create a range of dates\n",
    "\n",
    "# Stip off the year and save a list of %m-%d strings\n",
    "\n",
    "# Loop through the list of %m-%d strings and calculate the normals for each date\n"
   ]
  },
  {
   "cell_type": "code",
   "execution_count": 36,
   "metadata": {},
   "outputs": [
    {
     "name": "stdout",
     "output_type": "stream",
     "text": [
      "01-01\n",
      "01-02\n",
      "01-03\n",
      "01-04\n",
      "01-05\n",
      "01-06\n",
      "01-07\n"
     ]
    },
    {
     "data": {
      "text/plain": [
       "[(62.0, 69.15384615384616, 77.0),\n",
       " (60.0, 69.39622641509433, 77.0),\n",
       " (62.0, 68.9090909090909, 77.0),\n",
       " (58.0, 70.0, 76.0),\n",
       " (56.0, 67.96428571428571, 76.0),\n",
       " (61.0, 68.96491228070175, 76.0),\n",
       " (57.0, 68.54385964912281, 76.0)]"
      ]
     },
     "execution_count": 36,
     "metadata": {},
     "output_type": "execute_result"
    }
   ],
   "source": [
    "st_date = dt.datetime.strptime('2018-01-01', \"%Y-%m-%d\")\n",
    "end_date = dt.datetime.strptime('2018-01-07', \"%Y-%m-%d\")\n",
    "curr_date = st_date\n",
    "normals =[]\n",
    "date_list = []\n",
    "while curr_date <= end_date:\n",
    "    date_list.append(curr_date)\n",
    "    short_cur_date = curr_date.strftime(\"%m-%d\")\n",
    "    print(short_cur_date)\n",
    "    curr_date = curr_date + td(1)\n",
    "    normals.append(*daily_normals(short_cur_date))\n",
    "normals"
   ]
  },
  {
   "cell_type": "code",
   "execution_count": 37,
   "metadata": {},
   "outputs": [],
   "source": [
    "# Load the previous query results into a Pandas DataFrame and add the `trip_dates` range as the `date` index\n"
   ]
  },
  {
   "cell_type": "code",
   "execution_count": 38,
   "metadata": {},
   "outputs": [
    {
     "data": {
      "text/html": [
       "<div>\n",
       "<style scoped>\n",
       "    .dataframe tbody tr th:only-of-type {\n",
       "        vertical-align: middle;\n",
       "    }\n",
       "\n",
       "    .dataframe tbody tr th {\n",
       "        vertical-align: top;\n",
       "    }\n",
       "\n",
       "    .dataframe thead th {\n",
       "        text-align: right;\n",
       "    }\n",
       "</style>\n",
       "<table border=\"1\" class=\"dataframe\">\n",
       "  <thead>\n",
       "    <tr style=\"text-align: right;\">\n",
       "      <th></th>\n",
       "      <th>tmin</th>\n",
       "      <th>tavg</th>\n",
       "      <th>tmax</th>\n",
       "    </tr>\n",
       "    <tr>\n",
       "      <th>Date</th>\n",
       "      <th></th>\n",
       "      <th></th>\n",
       "      <th></th>\n",
       "    </tr>\n",
       "  </thead>\n",
       "  <tbody>\n",
       "    <tr>\n",
       "      <th>2018-01-01</th>\n",
       "      <td>62.0</td>\n",
       "      <td>69.153846</td>\n",
       "      <td>77.0</td>\n",
       "    </tr>\n",
       "    <tr>\n",
       "      <th>2018-01-02</th>\n",
       "      <td>60.0</td>\n",
       "      <td>69.396226</td>\n",
       "      <td>77.0</td>\n",
       "    </tr>\n",
       "    <tr>\n",
       "      <th>2018-01-03</th>\n",
       "      <td>62.0</td>\n",
       "      <td>68.909091</td>\n",
       "      <td>77.0</td>\n",
       "    </tr>\n",
       "    <tr>\n",
       "      <th>2018-01-04</th>\n",
       "      <td>58.0</td>\n",
       "      <td>70.000000</td>\n",
       "      <td>76.0</td>\n",
       "    </tr>\n",
       "    <tr>\n",
       "      <th>2018-01-05</th>\n",
       "      <td>56.0</td>\n",
       "      <td>67.964286</td>\n",
       "      <td>76.0</td>\n",
       "    </tr>\n",
       "  </tbody>\n",
       "</table>\n",
       "</div>"
      ],
      "text/plain": [
       "            tmin       tavg  tmax\n",
       "Date                             \n",
       "2018-01-01  62.0  69.153846  77.0\n",
       "2018-01-02  60.0  69.396226  77.0\n",
       "2018-01-03  62.0  68.909091  77.0\n",
       "2018-01-04  58.0  70.000000  76.0\n",
       "2018-01-05  56.0  67.964286  76.0"
      ]
     },
     "execution_count": 38,
     "metadata": {},
     "output_type": "execute_result"
    }
   ],
   "source": [
    "df = pd.DataFrame(normals, columns = ['tmin', 'tavg', 'tmax'])\n",
    "df['Date'] = pd.to_datetime(date_list)\n",
    "# #df.index = pd.to_datetime(df.index)\n",
    "df.set_index('Date', inplace=True)\n",
    "\n",
    "# # Sort the dataframe by date\n",
    "# #df.sort_index(inplace=True)\n",
    "\n",
    "df.head()"
   ]
  },
  {
   "cell_type": "code",
   "execution_count": 39,
   "metadata": {},
   "outputs": [],
   "source": [
    "# Plot the daily normals as an area plot with `stacked=False`\n"
   ]
  },
  {
   "cell_type": "code",
   "execution_count": 40,
   "metadata": {},
   "outputs": [
    {
     "data": {
      "image/png": "[encoded data removed]",
      "text/plain": [
       "<Figure size 720x504 with 1 Axes>"
      ]
     },
     "metadata": {},
     "output_type": "display_data"
    }
   ],
   "source": [
    "df.plot.area(stacked=False, alpha=0.2, figsize=(10,7))\n",
    "#plt.margins(x=0)\n",
    "plt.tight_layout()\n",
    "plt.savefig('figs/daily_normals.png', bbox_inches='tight')\n",
    "plt.show()"
   ]
  },
  {
   "cell_type": "code",
   "execution_count": null,
   "metadata": {},
   "outputs": [],
   "source": []
  }
 ],
 "metadata": {
  "kernel_info": {
   "name": "python3"
  },
  "kernelspec": {
   "display_name": "Python [default]",
   "language": "python",
   "name": "python3"
  },
  "language_info": {
   "codemirror_mode": {
    "name": "ipython",
    "version": 3
   },
   "file_extension": ".py",
   "mimetype": "text/x-python",
   "name": "python",
   "nbconvert_exporter": "python",
   "pygments_lexer": "ipython3",
   "version": "3.6.5"
  },
  "nteract": {
   "version": "0.9.1"
  },
  "varInspector": {
   "cols": {
    "lenName": 16,
    "lenType": 16,
    "lenVar": 40
   },
   "kernels_config": {
    "python": {
     "delete_cmd_postfix": "",
     "delete_cmd_prefix": "del ",
     "library": "var_list.py",
     "varRefreshCmd": "print(var_dic_list())"
    },
    "r": {
     "delete_cmd_postfix": ") ",
     "delete_cmd_prefix": "rm(",
     "library": "var_list.r",
     "varRefreshCmd": "cat(var_dic_list()) "
    }
   },
   "types_to_exclude": [
    "module",
    "function",
    "builtin_function_or_method",
    "instance",
    "_Feature"
   ],
   "window_display": false
  }
 },
 "nbformat": 4,
 "nbformat_minor": 2
}
