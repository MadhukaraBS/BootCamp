{
 "cells": [
  {
   "cell_type": "code",
   "execution_count": 1,
   "metadata": {},
   "outputs": [],
   "source": [
    "%matplotlib notebook\n",
    "from matplotlib import style\n",
    "style.use('fivethirtyeight')\n",
    "import matplotlib.pyplot as plt"
   ]
  },
  {
   "cell_type": "code",
   "execution_count": 2,
   "metadata": {},
   "outputs": [],
   "source": [
    "import numpy as np\n",
    "import pandas as pd"
   ]
  },
  {
   "cell_type": "code",
   "execution_count": 3,
   "metadata": {},
   "outputs": [],
   "source": [
    "import datetime as dt\n"
   ]
  },
  {
   "cell_type": "markdown",
   "metadata": {},
   "source": [
    "# Reflect Tables into SQLAlchemy ORM"
   ]
  },
  {
   "cell_type": "code",
   "execution_count": 4,
   "metadata": {},
   "outputs": [],
   "source": [
    "# Python SQL toolkit and Object Relational Mapper\n",
    "import sqlalchemy\n",
    "from sqlalchemy.ext.automap import automap_base\n",
    "from sqlalchemy.orm import Session\n",
    "from sqlalchemy import create_engine, func"
   ]
  },
  {
   "cell_type": "code",
   "execution_count": 5,
   "metadata": {},
   "outputs": [],
   "source": [
    "engine = create_engine(\"sqlite:///Resources/hawaii.sqlite\")"
   ]
  },
  {
   "cell_type": "code",
   "execution_count": 6,
   "metadata": {},
   "outputs": [],
   "source": [
    "# reflect an existing database into a new model\n",
    "Base = automap_base()\n",
    "# reflect the tables\n",
    "Base.prepare(engine, reflect=True)"
   ]
  },
  {
   "cell_type": "code",
   "execution_count": 7,
   "metadata": {},
   "outputs": [
    {
     "data": {
      "text/plain": [
       "['measurement', 'station']"
      ]
     },
     "execution_count": 7,
     "metadata": {},
     "output_type": "execute_result"
    }
   ],
   "source": [
    "# We can view all of the classes that automap found\n",
    "Base.classes.keys()"
   ]
  },
  {
   "cell_type": "code",
   "execution_count": 8,
   "metadata": {},
   "outputs": [],
   "source": [
    "# Save references to each table\n",
    "Measurement = Base.classes.measurement\n",
    "Station = Base.classes.station"
   ]
  },
  {
   "cell_type": "code",
   "execution_count": 9,
   "metadata": {},
   "outputs": [],
   "source": [
    "# Create our session (link) from Python to the DB\n",
    "session = Session(engine)"
   ]
  },
  {
   "cell_type": "code",
   "execution_count": 10,
   "metadata": {},
   "outputs": [
    {
     "data": {
      "text/plain": [
       "{'id': Column('id', INTEGER(), table=<measurement>, primary_key=True, nullable=False),\n",
       " 'station': Column('station', TEXT(), table=<measurement>),\n",
       " 'date': Column('date', TEXT(), table=<measurement>),\n",
       " 'prcp': Column('prcp', FLOAT(), table=<measurement>),\n",
       " 'tobs': Column('tobs', FLOAT(), table=<measurement>)}"
      ]
     },
     "execution_count": 10,
     "metadata": {},
     "output_type": "execute_result"
    }
   ],
   "source": [
    "#  The schema and table can be viewed at https://sqliteonline.com/\n",
    "#  Or by installing DB Browser for SQLite\n",
    "dict(Measurement.__table__.columns)"
   ]
  },
  {
   "cell_type": "code",
   "execution_count": 11,
   "metadata": {},
   "outputs": [
    {
     "data": {
      "text/plain": [
       "{'id': Column('id', INTEGER(), table=<station>, primary_key=True, nullable=False),\n",
       " 'station': Column('station', TEXT(), table=<station>),\n",
       " 'name': Column('name', TEXT(), table=<station>),\n",
       " 'latitude': Column('latitude', FLOAT(), table=<station>),\n",
       " 'longitude': Column('longitude', FLOAT(), table=<station>),\n",
       " 'elevation': Column('elevation', FLOAT(), table=<station>)}"
      ]
     },
     "execution_count": 11,
     "metadata": {},
     "output_type": "execute_result"
    }
   ],
   "source": [
    "dict(Station.__table__.columns)"
   ]
  },
  {
   "cell_type": "code",
   "execution_count": 12,
   "metadata": {},
   "outputs": [
    {
     "data": {
      "text/plain": [
       "{'_sa_instance_state': <sqlalchemy.orm.state.InstanceState at 0x160fec12c88>,\n",
       " 'longitude': -157.8168,\n",
       " 'name': 'WAIKIKI 717.2, HI US',\n",
       " 'id': 1,\n",
       " 'elevation': 3.0,\n",
       " 'latitude': 21.2716,\n",
       " 'station': 'USC00519397'}"
      ]
     },
     "execution_count": 12,
     "metadata": {},
     "output_type": "execute_result"
    }
   ],
   "source": [
    "# Display the row's columns and data in dictionary format\n",
    "first_row = session.query(Station).first()\n",
    "first_row.__dict__"
   ]
  },
  {
   "cell_type": "code",
   "execution_count": 13,
   "metadata": {},
   "outputs": [
    {
     "data": {
      "text/plain": [
       "{'_sa_instance_state': <sqlalchemy.orm.state.InstanceState at 0x160fec557b8>,\n",
       " 'prcp': 0.08,\n",
       " 'station': 'USC00519397',\n",
       " 'id': 1,\n",
       " 'tobs': 65.0,\n",
       " 'date': '2010-01-01'}"
      ]
     },
     "execution_count": 13,
     "metadata": {},
     "output_type": "execute_result"
    }
   ],
   "source": [
    "# Display the row's columns and data in dictionary format\n",
    "first_row = session.query(Measurement).first()\n",
    "first_row.__dict__"
   ]
  },
  {
   "cell_type": "markdown",
   "metadata": {},
   "source": [
    "# Exploratory Climate Analysis"
   ]
  },
  {
   "cell_type": "code",
   "execution_count": 14,
   "metadata": {},
   "outputs": [],
   "source": [
    "from datetime import timedelta as td\n",
    "lastyear = dt.date.today() - td(365)\n",
    "#today = dt.date.today().strftime(\"%Y-%m-%d\")"
   ]
  },
  {
   "cell_type": "code",
   "execution_count": 15,
   "metadata": {},
   "outputs": [
    {
     "name": "stdout",
     "output_type": "stream",
     "text": [
      "<class 'str'> 2016-08-23\n"
     ]
    }
   ],
   "source": [
    "from sqlalchemy import and_\n",
    "import matplotlib.dates as mdates\n",
    "from matplotlib import style\n",
    "style.use('fivethirtyeight')\n",
    "# Design a query to retrieve the last 12 months of precipitation data and plot the results\n",
    "#  prec_data = session.query(Measurement.date > last_year).limit(5).all()\n",
    "last_entry = session.query(Measurement).order_by(Measurement.date.desc())\n",
    "\n",
    "#  Print the date from the last 15 entries\n",
    "# for i in last_entry.limit(15).all():\n",
    "#     print(i.date)\n",
    "\n",
    "last_entry_year = last_entry.first().__dict__['date']\n",
    "prev_year = (dt.datetime.strptime(last_entry_year, \"%Y-%m-%d\") -td(365)).strftime(\"%Y-%m-%d\")\n",
    "print(type(prev_year), prev_year)\n",
    "prec_data = session.query(Measurement.date, Measurement.prcp).filter(\n",
    "    and_(Measurement.date >= prev_year, Measurement.prcp != None))\n",
    "# prec_data = session.query(Measurement).all()\n",
    "x_val, y_val = zip(*prec_data)"
   ]
  },
  {
   "cell_type": "code",
   "execution_count": 17,
   "metadata": {},
   "outputs": [
    {
     "name": "stdout",
     "output_type": "stream",
     "text": [
      "2021 2021 <class 'tuple'>\n"
     ]
    },
    {
     "data": {
      "text/html": [
       "<div>\n",
       "<style scoped>\n",
       "    .dataframe tbody tr th:only-of-type {\n",
       "        vertical-align: middle;\n",
       "    }\n",
       "\n",
       "    .dataframe tbody tr th {\n",
       "        vertical-align: top;\n",
       "    }\n",
       "\n",
       "    .dataframe thead th {\n",
       "        text-align: right;\n",
       "    }\n",
       "</style>\n",
       "<table border=\"1\" class=\"dataframe\">\n",
       "  <thead>\n",
       "    <tr style=\"text-align: right;\">\n",
       "      <th></th>\n",
       "      <th>Precipitation</th>\n",
       "    </tr>\n",
       "    <tr>\n",
       "      <th>Date</th>\n",
       "      <th></th>\n",
       "    </tr>\n",
       "  </thead>\n",
       "  <tbody>\n",
       "    <tr>\n",
       "      <th>2016-08-23</th>\n",
       "      <td>0.00</td>\n",
       "    </tr>\n",
       "    <tr>\n",
       "      <th>2016-08-23</th>\n",
       "      <td>0.02</td>\n",
       "    </tr>\n",
       "    <tr>\n",
       "      <th>2016-08-23</th>\n",
       "      <td>0.05</td>\n",
       "    </tr>\n",
       "    <tr>\n",
       "      <th>2016-08-23</th>\n",
       "      <td>0.70</td>\n",
       "    </tr>\n",
       "    <tr>\n",
       "      <th>2016-08-23</th>\n",
       "      <td>0.15</td>\n",
       "    </tr>\n",
       "  </tbody>\n",
       "</table>\n",
       "</div>"
      ],
      "text/plain": [
       "            Precipitation\n",
       "Date                     \n",
       "2016-08-23           0.00\n",
       "2016-08-23           0.02\n",
       "2016-08-23           0.05\n",
       "2016-08-23           0.70\n",
       "2016-08-23           0.15"
      ]
     },
     "execution_count": 17,
     "metadata": {},
     "output_type": "execute_result"
    },
    {
     "data": {
      "image/png": "[encoded data removed]",
      "text/plain": [
       "<Figure size 432x288 with 1 Axes>"
      ]
     },
     "metadata": {},
     "output_type": "display_data"
    }
   ],
   "source": [
    "%matplotlib inline\n",
    "# x_val = []\n",
    "# y_val = []\n",
    "# for i, j in prec_data:\n",
    "#     x_val.append(dt.datetime.strptime(i, \"%Y-%m-%d\"))\n",
    "#     y_val.append(j)\n",
    "# Give our graph axis labels\n",
    "# plt.xlabel(\"Date\")\n",
    "# plt.ylabel(\"Precipitation\")\n",
    "# plt.bar(x_val, y_val)\n",
    "# plt.show()\n",
    "\n",
    "print(len(x_val), len(y_val), type(x_val))\n",
    "\n",
    "df = pd.DataFrame({\"Date\" : x_val,\n",
    "                   \"Precipitation\" : y_val})\n",
    "df.set_index('Date', inplace=True)\n",
    "#df.sort_values(by=['Date'])\n",
    "df.sort_index(inplace=True)\n",
    "df.plot(alpha=0.75)\n",
    "#df.to_csv(\"fileOne.csv\", index=True, header=True)\n",
    "# df1 = df.head(150)\n",
    "# df1.plot(kind='bar', alpha=0.75, rot=30)\n",
    "# plt.gca().xaxis_date()\n",
    "# plt.gca().xaxis.set_major_formatter(mdates.DateFormatter('%Y/%m/%d'))\n",
    "# plt.gcf().autofmt_xdate()\n",
    "plt.tight_layout()\n",
    "#  max(y_val)\n",
    "# for p in prec_data:\n",
    "#     print(p)\n",
    "# a\n",
    "\n",
    "# Save the query results as a Pandas DataFrame and set the index to the date column\n",
    "\n",
    "# Sort the dataframe by date\n",
    "\n",
    "# Use Pandas Plotting with Matplotlib to plot the data\n",
    "\n",
    "# Rotate the xticks for the dates\n",
    "df.head()"
   ]
  },
  {
   "cell_type": "code",
   "execution_count": 19,
   "metadata": {},
   "outputs": [
    {
     "name": "stdout",
     "output_type": "stream",
     "text": [
      "Total stations = 9\n",
      "Station names:\n",
      "\tWAIKIKI 717.2, HI US\n",
      "\tKANEOHE 838.1, HI US\n",
      "\tKUALOA RANCH HEADQUARTERS 886.9, HI US\n",
      "\tPEARL CITY, HI US\n",
      "\tUPPER WAHIAWA 874.3, HI US\n",
      "\tWAIMANALO EXPERIMENTAL FARM, HI US\n",
      "\tWAIHEE 837.5, HI US\n",
      "\tHONOLULU OBSERVATORY 702.2, HI US\n",
      "\tMANOA LYON ARBO 785.2, HI US\n"
     ]
    }
   ],
   "source": [
    "# How many stations are available in this dataset?\n",
    "total_stations = session.query(Station).count()\n",
    "st = session.query(Station)\n",
    "print(f\"Total stations = {total_stations}\")\n",
    "print(\"Station names:\")\n",
    "for s in st:\n",
    "    print(f\"\\t{s.name}\")"
   ]
  },
  {
   "cell_type": "code",
   "execution_count": 20,
   "metadata": {},
   "outputs": [
    {
     "name": "stdout",
     "output_type": "stream",
     "text": [
      "The Query is:\n",
      "SELECT station.id AS station_id, station.station AS station_station, station.name AS station_name, count(measurement.prcp) AS \"Count\" \n",
      "FROM station JOIN measurement ON station.station = measurement.station GROUP BY station.name ORDER BY \"Count\" DESC \n",
      "\n",
      "Station id  Station        Station Name                                 Observation Count\n",
      "==========================================================================================\n",
      "7           USC00519281    WAIHEE 837.5, HI US                          2772\n",
      "2           USC00513117    KANEOHE 838.1, HI US                         2696\n",
      "1           USC00519397    WAIKIKI 717.2, HI US                         2685\n",
      "6           USC00519523    WAIMANALO EXPERIMENTAL FARM, HI US           2572\n",
      "9           USC00516128    MANOA LYON ARBO 785.2, HI US                 2484\n",
      "3           USC00514830    KUALOA RANCH HEADQUARTERS 886.9, HI US       1937\n",
      "8           USC00511918    HONOLULU OBSERVATORY 702.2, HI US            1932\n",
      "4           USC00517948    PEARL CITY, HI US                            683\n",
      "5           USC00518838    UPPER WAHIAWA 874.3, HI US                   342\n",
      "==========================================================================================\n"
     ]
    }
   ],
   "source": [
    "from sqlalchemy import func\n",
    "\n",
    "# What are the most active stations?\n",
    "# List the stations and the counts in descending order.\n",
    "st_join = session.query(\n",
    "    Station.id, Station.station, Station.name, func.count(Measurement.prcp).label('Count')\n",
    ").join(\n",
    "    # tell SQLAlchemy to join the tables without foreign key\n",
    "    Measurement, Station.station == Measurement.station\n",
    ").group_by(\n",
    "    Station.name\n",
    ").order_by(\n",
    "    #  Forward reference to label attached above\n",
    "sqlalchemy.desc('Count')\n",
    ")\n",
    "\n",
    "print('The Query is:')\n",
    "print(st_join, '\\n')\n",
    "print(f\"{'Station id':12}{'Station':15}{'Station Name':45}{'Observation Count'}\")\n",
    "print(\"\".ljust(90,'='))\n",
    "for st_id, st, st_name, meas_cnt in st_join:\n",
    "    print(f\"{st_id}{' ':11}{st:15}{st_name:45}{meas_cnt}\")\n",
    "print(\"\".ljust(90,'='))\n"
   ]
  },
  {
   "cell_type": "code",
   "execution_count": 21,
   "metadata": {},
   "outputs": [
    {
     "name": "stdout",
     "output_type": "stream",
     "text": [
      "Station USC00519281 WAIHEE 837.5, HI US recorded\n",
      "\t Lowest temp of 54.00°, avg temp of 71.66° and max temp of 85.00°\n"
     ]
    }
   ],
   "source": [
    "# Using the station id from the previous query, calculate the lowest temperature recorded, \n",
    "# highest temperature recorded, and average temperature most active station?\n",
    "act_st_id = st_join.first()\n",
    "temp_q = session.query(\n",
    "    func.min(Measurement.tobs),\n",
    "    func.avg(Measurement.tobs),\n",
    "    func.max(Measurement.tobs)).filter(Measurement.station == act_st_id.station)\n",
    "print(f\"Station {act_st_id.station} {act_st_id.name} recorded\")\n",
    "min_t, avg_t, max_t = temp_q.first()\n",
    "print(f\"\\t Lowest temp of {min_t:3.2f}°, avg temp of {avg_t:2.2f}° and max temp of {max_t:3.2f}°\")"
   ]
  },
  {
   "cell_type": "code",
   "execution_count": 22,
   "metadata": {},
   "outputs": [
    {
     "name": "stdout",
     "output_type": "stream",
     "text": [
      "2017-08-18 2016-08-18 357\n"
     ]
    },
    {
     "name": "stderr",
     "output_type": "stream",
     "text": [
      "C:\\Users\\msatyana\\AppData\\Local\\Continuum\\anaconda3\\envs\\PythonData\\lib\\site-packages\\matplotlib\\figure.py:2267: UserWarning: This figure includes Axes that are not compatible with tight_layout, so results might be incorrect.\n",
      "  warnings.warn(\"This figure includes Axes that are not compatible \"\n"
     ]
    },
    {
     "data": {
      "image/png": "[encoded data removed]",
      "text/plain": [
       "<Figure size 432x288 with 1 Axes>"
      ]
     },
     "metadata": {},
     "output_type": "display_data"
    }
   ],
   "source": [
    "# Choose the station with the highest number of temperature observations.\n",
    "# Query the last 12 months of temperature observation data for this station and plot the results as a histogram\n",
    "last_entry_act_st_q = session.query(Measurement).filter(\n",
    "    Measurement.station == act_st_id.station).order_by(Measurement.date.desc())\n",
    "last_entry = last_entry_act_st_q.first().date\n",
    "prev_year = (dt.datetime.strptime(last_entry, \"%Y-%m-%d\") - td(365)).strftime(\"%Y-%m-%d\")\n",
    "temperature_data = session.query(Measurement.date, Measurement.tobs).filter(and_(\n",
    "    Measurement.date >= prev_year,\n",
    "    Measurement.station == act_st_id.station))\n",
    "print(last_entry, prev_year, temperature_data.count())\n",
    "temperature_obs = []\n",
    "#h_file = open(\"hist_out.csv\",\"w\")\n",
    "for i,j in temperature_data:\n",
    "    temperature_obs.append(j)\n",
    "#    h_file.write(i + \",\" + str(j) + \"\\n\")\n",
    "#h_file.close()\n",
    "fig, axs = plt.subplots(1, 1, tight_layout=True)\n",
    "#n_bins = 13\n",
    "\n",
    "# We can set the number of bins with the `bins` kwarg\n",
    "axs.hist(temperature_obs)\n",
    "plt.show()"
   ]
  },
  {
   "cell_type": "code",
   "execution_count": 23,
   "metadata": {},
   "outputs": [
    {
     "name": "stdout",
     "output_type": "stream",
     "text": [
      "[(62.0, 69.57142857142857, 74.0)]\n"
     ]
    }
   ],
   "source": [
    "# Write a function called `calc_temps` that will accept start date and end date in the format '%Y-%m-%d' \n",
    "# and return the minimum, average, and maximum temperatures for that range of dates\n",
    "def calc_temps(start_date, end_date):\n",
    "    \"\"\"TMIN, TAVG, and TMAX for a list of dates.\n",
    "    \n",
    "    Args:\n",
    "        start_date (string): A date string in the format %Y-%m-%d\n",
    "        end_date (string): A date string in the format %Y-%m-%d\n",
    "        \n",
    "    Returns:\n",
    "        TMIN, TAVE, and TMAX\n",
    "    \"\"\"\n",
    "    \n",
    "    return session.query(func.min(Measurement.tobs), func.avg(Measurement.tobs), func.max(Measurement.tobs)).\\\n",
    "        filter(Measurement.date >= start_date).filter(Measurement.date <= end_date).all()\n",
    "print(calc_temps('2012-02-28', '2012-03-05'))"
   ]
  },
  {
   "cell_type": "code",
   "execution_count": 24,
   "metadata": {},
   "outputs": [
    {
     "name": "stdout",
     "output_type": "stream",
     "text": [
      "During trip from 2016-02-28 to 2016-03-05\n",
      "Min temperature was 62.00° Avg temperature was 69.89° Max temperature was 80.00°\n"
     ]
    }
   ],
   "source": [
    "# Use your previous function `calc_temps` to calculate the tmin, tavg, and tmax \n",
    "# for your trip using the previous year's data for those same dates.\n",
    "tmin, tavg, tmax = calc_temps('2016-02-28', '2016-03-05')[0]\n",
    "print(\"During trip from 2016-02-28 to 2016-03-05\")\n",
    "print(f\"Min temperature was {tmin:3.2f}° Avg temperature was {tavg:3.2f}° Max temperature was {tmax:3.2f}°\")"
   ]
  },
  {
   "cell_type": "code",
   "execution_count": 25,
   "metadata": {},
   "outputs": [
    {
     "data": {
      "image/png": "[encoded data removed]",
      "text/plain": [
       "<Figure size 432x288 with 1 Axes>"
      ]
     },
     "metadata": {},
     "output_type": "display_data"
    }
   ],
   "source": [
    "# Plot the results from your previous query as a bar chart. \n",
    "# Use \"Trip Avg Temp\" as your Title\n",
    "# Use the average temperature for the y value\n",
    "# Use the peak-to-peak (tmax-tmin) value as the y error bar (yerr)\n",
    "fig, ax = plt.subplots(1, 1)\n",
    "ax.bar(1, tavg, width=0.5, yerr=tmax-tmin)\n",
    "ax.set_xlim(0, 2)\n",
    "#ax.xaxis.set_major_formatter(plt.NullFormatter())\n",
    "#ax.xaxis.set_major_locator(plt.NullLocator())\n",
    "plt.xticks([0,1,2])\n",
    "plt.show()"
   ]
  },
  {
   "cell_type": "code",
   "execution_count": 26,
   "metadata": {},
   "outputs": [
    {
     "name": "stdout",
     "output_type": "stream",
     "text": [
      "The Query is:\n",
      "SELECT measurement.prcp AS measurement_prcp, station.station AS station_station, station.name AS station_name, station.latitude AS station_latitude, station.longitude AS station_longitude, station.elevation AS station_elevation \n",
      "FROM measurement JOIN station ON station.station = measurement.station \n",
      "WHERE measurement.date >= ? AND measurement.date <= ? AND measurement.prcp IS NOT NULL GROUP BY station.station ORDER BY measurement.prcp DESC \n",
      "\n",
      "Station      Station Name                              Precp  Latitude  Longitude Elevation \n",
      "===========================================================================================\n",
      "USC00514830  KUALOA RANCH HEADQUARTERS 886.9, HI US     1.12     21.52   -157.84       7.0\n",
      "USC00519281  WAIHEE 837.5, HI US                        0.41     21.45   -157.85      32.9\n",
      "USC00516128  MANOA LYON ARBO 785.2, HI US               0.35     21.33   -157.80     152.4\n",
      "USC00519397  WAIKIKI 717.2, HI US                       0.35     21.27   -157.82       3.0\n",
      "USC00517948  PEARL CITY, HI US                          0.14     21.39   -157.98      11.9\n",
      "USC00513117  KANEOHE 838.1, HI US                       0.10     21.42   -157.80      14.6\n",
      "USC00519523  WAIMANALO EXPERIMENTAL FARM, HI US         0.00     21.34   -157.71      19.5\n",
      "===========================================================================================\n"
     ]
    }
   ],
   "source": [
    "# Calculate the rainfall per weather station for your trip dates using the previous year's matching dates.\n",
    "# Sort this in descending order by precipitation amount and list the station, name, latitude, longitude, and elevation\n",
    "\n",
    "#  Can be written as a sunction too. But for understanding sake it is\n",
    "#  explicitly spelled out as a complex query\n",
    "vacation_q = session.query(Measurement.prcp,\n",
    "              Station.station,\n",
    "              Station.name,\n",
    "              Station.latitude,\n",
    "              Station.longitude,\n",
    "              Station.elevation).\\\n",
    "              join(Station, Station.station == Measurement.station).\\\n",
    "              filter(Measurement.date >= '2017-02-28').\\\n",
    "              filter(Measurement.date <= '2017-03-05').\\\n",
    "              filter(Measurement.prcp != None).\\\n",
    "              group_by(Station.station).\\\n",
    "              order_by(Measurement.prcp.desc())\n",
    "\n",
    "print('The Query is:')\n",
    "print(vacation_q, '\\n')\n",
    "print(f\"{'Station':13}{'Station Name':42}{'Precp':7}{'Latitude':10}{'Longitude':10}{'Elevation':10}\")\n",
    "print(\"\".ljust(91,'='))\n",
    "for prcp, st, st_name, st_lat, st_lng, st_elev in vacation_q:\n",
    "    print(f\"{st:13}{st_name:42}{prcp:>5.2f}{st_lat:>10.2f}{st_lng:>10.2f}{st_elev:>10.1f}\")\n",
    "print(\"\".ljust(91,'='))\n",
    "# vacation_q.all()"
   ]
  },
  {
   "cell_type": "markdown",
   "metadata": {},
   "source": [
    "## Optional Challenge Assignment"
   ]
  },
  {
   "cell_type": "code",
   "execution_count": 26,
   "metadata": {},
   "outputs": [
    {
     "data": {
      "text/plain": [
       "[(62.0, 69.15384615384616, 77.0)]"
      ]
     },
     "execution_count": 26,
     "metadata": {},
     "output_type": "execute_result"
    }
   ],
   "source": [
    "# Create a query that will calculate the daily normals \n",
    "# (i.e. the averages for tmin, tmax, and tavg for all historic data matching a specific month and day)\n",
    "\n",
    "def daily_normals(date):\n",
    "    \"\"\"Daily Normals.\n",
    "    \n",
    "    Args:\n",
    "        date (str): A date string in the format '%m-%d'\n",
    "        \n",
    "    Returns:\n",
    "        A list of tuples containing the daily normals, tmin, tavg, and tmax\n",
    "    \n",
    "    \"\"\"\n",
    "    \n",
    "    sel = [func.min(Measurement.tobs), func.avg(Measurement.tobs), func.max(Measurement.tobs)]\n",
    "    return session.query(*sel).filter(func.strftime(\"%m-%d\", Measurement.date) == date).all()\n",
    "    \n",
    "daily_normals(\"01-01\")"
   ]
  },
  {
   "cell_type": "code",
   "execution_count": 27,
   "metadata": {},
   "outputs": [],
   "source": [
    "# calculate the daily normals for your trip\n",
    "# push each tuple of calculations into a list called `normals`\n",
    "\n",
    "# Set the start and end date of the trip\n",
    "\n",
    "# Use the start and end date to create a range of dates\n",
    "\n",
    "# Stip off the year and save a list of %m-%d strings\n",
    "\n",
    "# Loop through the list of %m-%d strings and calculate the normals for each date\n"
   ]
  },
  {
   "cell_type": "code",
   "execution_count": 28,
   "metadata": {},
   "outputs": [],
   "source": [
    "# Load the previous query results into a Pandas DataFrame and add the `trip_dates` range as the `date` index\n"
   ]
  },
  {
   "cell_type": "code",
   "execution_count": 29,
   "metadata": {},
   "outputs": [],
   "source": [
    "# Plot the daily normals as an area plot with `stacked=False`\n"
   ]
  }
 ],
 "metadata": {
  "kernel_info": {
   "name": "python3"
  },
  "kernelspec": {
   "display_name": "Python [conda env:PythonData]",
   "language": "python",
   "name": "conda-env-PythonData-py"
  },
  "language_info": {
   "codemirror_mode": {
    "name": "ipython",
    "version": 3
   },
   "file_extension": ".py",
   "mimetype": "text/x-python",
   "name": "python",
   "nbconvert_exporter": "python",
   "pygments_lexer": "ipython3",
   "version": "3.6.5"
  },
  "nteract": {
   "version": "0.9.1"
  },
  "varInspector": {
   "cols": {
    "lenName": 16,
    "lenType": 16,
    "lenVar": 40
   },
   "kernels_config": {
    "python": {
     "delete_cmd_postfix": "",
     "delete_cmd_prefix": "del ",
     "library": "var_list.py",
     "varRefreshCmd": "print(var_dic_list())"
    },
    "r": {
     "delete_cmd_postfix": ") ",
     "delete_cmd_prefix": "rm(",
     "library": "var_list.r",
     "varRefreshCmd": "cat(var_dic_list()) "
    }
   },
   "types_to_exclude": [
    "module",
    "function",
    "builtin_function_or_method",
    "instance",
    "_Feature"
   ],
   "window_display": false
  }
 },
 "nbformat": 4,
 "nbformat_minor": 2
}
